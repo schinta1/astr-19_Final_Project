{
 "cells": [
  {
   "cell_type": "markdown",
   "metadata": {},
   "source": [
    "I'm importing all the required libraries and setting the parameters for the graph"
   ]
  },
  {
   "cell_type": "code",
   "execution_count": null,
   "metadata": {},
   "outputs": [],
   "source": [
    "import numpy as np\n",
    "import sep\n",
    "from astropy.io import fits\n",
    "import matplotlib.pyplot as plt\n",
    "from matplotlib import rcParams\n",
    "from matplotlib.patches import Ellipse\n",
    "from astropy.visualization  import make_lupton_rgb\n",
    "\n",
    "%matplotlib inline\n",
    "\n",
    "rcParams['figure.figsize'] = [10., 8.]"
   ]
  },
  {
   "cell_type": "markdown",
   "metadata": {},
   "source": [
    "I am opening the image and getting the data from the image."
   ]
  },
  {
   "cell_type": "code",
   "execution_count": null,
   "metadata": {},
   "outputs": [],
   "source": [
    "# open the file\n",
    "hdul = fits.open(\"hlsp_hudf12_hst_wfc3ir_udfmain_f105w_v1.0_drz.fits\")\n",
    "# get the data\n",
    "data = hdul[0].data\n",
    "data = data.byteswap(inplace=True).newbyteorder()"
   ]
  },
  {
   "cell_type": "markdown",
   "metadata": {},
   "source": [
    "I am creating a graph using the mean and standard deviation from the data. "
   ]
  },
  {
   "cell_type": "code",
   "execution_count": null,
   "metadata": {},
   "outputs": [],
   "source": [
    "# shows the image\n",
    "m, s = np.mean(data), np.std(data)\n",
    "plt.imshow(data, interpolation='nearest', cmap='gray', vmin=m-s, vmax=m+s, origin='lower')\n",
    "plt.colorbar()\n",
    "plt.savefig(\"Hubble_1.png\",bbox_inches='tight',dpi=400)"
   ]
  },
  {
   "cell_type": "markdown",
   "metadata": {},
   "source": [
    "First we are getting the background of the image, then we are printing the mean and noise of the background. After that, we are making a 2d array that has the same size as the original image for the background. This is for back, which is the global mean. Finally, we are creating a graph to show the array. "
   ]
  },
  {
   "cell_type": "code",
   "execution_count": null,
   "metadata": {},
   "outputs": [],
   "source": [
    "# measure a spatially varying background on the image\n",
    "bkg = sep.Background(data)\n",
    "\n",
    "# get a \"global\" mean and noise of the image background:\n",
    "print(bkg.globalback)\n",
    "print(bkg.globalrms)\n",
    "\n",
    "# evaluate background as 2-d array, same size as original image\n",
    "bkg_image = bkg.back()\n",
    "# bkg_image = np.array(bkg) # equivalent to above\n",
    "\n",
    "# show the background\n",
    "plt.imshow(bkg_image, interpolation='nearest', cmap='gray', origin='lower')\n",
    "plt.colorbar()\n",
    "plt.savefig(\"Hubble_2.png\",bbox_inches='tight',dpi=400)"
   ]
  },
  {
   "cell_type": "markdown",
   "metadata": {},
   "source": [
    "We are making a 2d array that has the same size as the original image for the background. This is for rms, which is the noise of the image background. We are also creating a graph to show the array. "
   ]
  },
  {
   "cell_type": "code",
   "execution_count": null,
   "metadata": {},
   "outputs": [],
   "source": [
    "\n",
    "# evaluate the background noise as 2-d array, same size as original image\n",
    "bkg_rms = bkg.rms()\n",
    "\n",
    "# show the background noise\n",
    "plt.imshow(bkg_rms, interpolation='nearest', cmap='gray', origin='lower')\n",
    "plt.colorbar()\n",
    "plt.savefig(\"Hubble_3.png\",bbox_inches='tight',dpi=400)"
   ]
  },
  {
   "cell_type": "markdown",
   "metadata": {},
   "source": [
    "We are removing the background of the image from data. We are also extracting and checking how many objects are in the image. There are 1360 objects or sources that were found."
   ]
  },
  {
   "cell_type": "code",
   "execution_count": null,
   "metadata": {},
   "outputs": [],
   "source": [
    "# subtract the background\n",
    "data_sub = data - bkg\n",
    "\n",
    "objects = sep.extract(data_sub, 12, err=bkg.globalrms)\n",
    "\n",
    "# how many objects were detected\n",
    "len(objects)"
   ]
  },
  {
   "cell_type": "markdown",
   "metadata": {},
   "source": [
    "We are creating a plot that circles all the objects that are detected."
   ]
  },
  {
   "cell_type": "code",
   "execution_count": null,
   "metadata": {},
   "outputs": [],
   "source": [
    "# plot background-subtracted image\n",
    "fig, ax = plt.subplots()\n",
    "m, s = np.mean(data_sub), np.std(data_sub)\n",
    "im = ax.imshow(data_sub, interpolation='nearest', cmap='gray',\n",
    "               vmin=m-s, vmax=m+s, origin='lower')\n",
    "\n",
    "# plot an ellipse for each object\n",
    "for i in range(len(objects)):\n",
    "    e = Ellipse(xy=(objects['x'][i], objects['y'][i]),\n",
    "                width=6*objects['a'][i],\n",
    "                height=6*objects['b'][i],\n",
    "                angle=objects['theta'][i] * 180. / np.pi)\n",
    "    e.set_facecolor('none')\n",
    "    e.set_edgecolor('red')\n",
    "    ax.add_artist(e)\n",
    "plt.savefig(\"Hubble_4.png\",bbox_inches='tight',dpi=400)"
   ]
  },
  {
   "cell_type": "markdown",
   "metadata": {},
   "source": [
    "We are performing Aperture Photometry and using the flux to create a histogram."
   ]
  },
  {
   "cell_type": "code",
   "execution_count": null,
   "metadata": {},
   "outputs": [],
   "source": [
    "# available fields\n",
    "objects.dtype.names\n",
    "flux, fluxerr, flag = sep.sum_circle(data_sub, objects['x'], objects['y'],\n",
    "                                     3.0, err=bkg.globalrms, gain=1.0)\n",
    "fs=11\n",
    "lcolor='red'\n",
    "\n",
    "f, ax = plt.subplots(1,1,figsize=(7,7))\n",
    "ax.hist(flux,facecolor=lcolor,edgecolor='black',alpha=0.5)\n",
    "plt.savefig(\"Historgram.png\",bbox_inches='tight',dpi=400)"
   ]
  },
  {
   "cell_type": "markdown",
   "metadata": {},
   "source": [
    "printing the flux of the first 10 objects"
   ]
  },
  {
   "cell_type": "code",
   "execution_count": null,
   "metadata": {},
   "outputs": [],
   "source": [
    "# show the first 10 objects results:\n",
    "for i in range(10):\n",
    "    print(\"object {:d}: flux = {:f} +/- {:f}\".format(i, flux[i], fluxerr[i]))"
   ]
  },
  {
   "cell_type": "markdown",
   "metadata": {},
   "source": [
    "The mean is 2.1395..., the std is 23.172..., the median is 0.37709... The largest outlier is 805.455 .... and it is 34.666... stds away from the mean. We can see where it is in the image in the graph below.\n",
    "\n",
    "Finding the mean, std, median for flux. Then calculating zscore to find all the outliers. "
   ]
  },
  {
   "cell_type": "code",
   "execution_count": null,
   "metadata": {},
   "outputs": [],
   "source": [
    "mean, std, median = np.mean(flux), np.std(flux), np.median(flux)\n",
    "print(f\"mean:{mean}, std: {std}, median:{median}\")\n",
    "\n",
    "r = 3\n",
    "outliers = []\n",
    "z_list = []\n",
    "for x in flux:\n",
    "    z = (x - mean) / std\n",
    "    z_list.append(z)\n",
    "    if abs(z) > r:\n",
    "        outliers.append(x)\n",
    "biggest_outlier = max(outliers)\n",
    "biggest_zscore = max (z_list)\n",
    "print(f\"list of outliers: {outliers}\")\n",
    "print( f\"largest outlier: {biggest_outlier}\")\n",
    "print (f\"zscore of largest outlier: {biggest_zscore}\")\n",
    "\n",
    "v = 0\n",
    "for x in range(len(objects)):\n",
    "    if flux[x] == biggest_outlier:\n",
    "        v = x\n",
    "        print(x)\n",
    "\n",
    "# plot background-subtracted image\n",
    "fig, ax = plt.subplots()\n",
    "m, s = np.mean(data_sub), np.std(data_sub)\n",
    "im = ax.imshow(data_sub, interpolation='nearest', cmap='gray',\n",
    "               vmin=m-s, vmax=m+s, origin='lower')\n",
    "\n",
    "# plot an ellipse for each object\n",
    "\n",
    "e = Ellipse(xy=(objects['x'][v], objects['y'][v]),\n",
    "            width=6*objects['a'][v],\n",
    "            height=6*objects['b'][v],\n",
    "            angle=objects['theta'][v] * 180. / np.pi)\n",
    "e.set_facecolor('none')\n",
    "e.set_edgecolor('red')\n",
    "ax.add_artist(e)\n",
    "plt.savefig(\"Outlier.png\",bbox_inches='tight',dpi=400)"
   ]
  },
  {
   "cell_type": "markdown",
   "metadata": {},
   "source": [
    "I am opening the new fits object, getting the data, and byteswapping"
   ]
  },
  {
   "cell_type": "code",
   "execution_count": null,
   "metadata": {},
   "outputs": [],
   "source": [
    "# open the file\n",
    "bdul = fits.open(\"hlsp_hudf12_hst_wfc3ir_udfmain_f125w_v1.0_drz.fits\")\n",
    "# get the data\n",
    "data2 = bdul[0].data\n",
    "data2 = data2.byteswap(inplace=True).newbyteorder()\n",
    "# open the file\n",
    "cdul = fits.open(\"hlsp_hudf12_hst_wfc3ir_udfmain_f160w_v1.0_drz.fits\")\n",
    "# get the data\n",
    "data3 = cdul[0].data\n",
    "data3 = data3.byteswap(inplace=True).newbyteorder()"
   ]
  },
  {
   "cell_type": "markdown",
   "metadata": {},
   "source": [
    "using make_lupton_rgb function from astropy.visualization to make an image that has data from all three fit objects. Then using imshow to display the image. "
   ]
  },
  {
   "cell_type": "code",
   "execution_count": null,
   "metadata": {},
   "outputs": [],
   "source": [
    "# shows the image\n",
    "img = make_lupton_rgb(data3, data2, data, Q = 0, stretch = 0.01)\n",
    "plt.imshow(img,interpolation='nearest', origin='lower')\n",
    "plt.savefig(\"3ColorFalse.png\",bbox_inches='tight',dpi=400)\n",
    "\n",
    "hdul.close() \n",
    "bdul.close()\n",
    "cdul.close()"
   ]
  }
 ],
 "metadata": {
  "kernelspec": {
   "display_name": "Python 3",
   "language": "python",
   "name": "python3"
  },
  "language_info": {
   "codemirror_mode": {
    "name": "ipython",
    "version": 3
   },
   "file_extension": ".py",
   "mimetype": "text/x-python",
   "name": "python",
   "nbconvert_exporter": "python",
   "pygments_lexer": "ipython3",
   "version": "3.10.10"
  }
 },
 "nbformat": 4,
 "nbformat_minor": 2
}
